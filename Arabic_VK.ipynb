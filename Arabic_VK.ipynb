{
  "nbformat": 4,
  "nbformat_minor": 0,
  "metadata": {
    "colab": {
      "provenance": [],
      "gpuType": "T4",
      "authorship_tag": "ABX9TyPgKBhAU/kfd5zZ0SgAWLeA",
      "include_colab_link": true
    },
    "kernelspec": {
      "name": "python3",
      "display_name": "Python 3"
    },
    "language_info": {
      "name": "python"
    },
    "accelerator": "GPU"
  },
  "cells": [
    {
      "cell_type": "markdown",
      "metadata": {
        "id": "view-in-github",
        "colab_type": "text"
      },
      "source": [
        "<a href=\"https://colab.research.google.com/github/AriachAmine/VK_Arabic/blob/main/Arabic_VK.ipynb\" target=\"_parent\"><img src=\"https://colab.research.google.com/assets/colab-badge.svg\" alt=\"Open In Colab\"/></a>"
      ]
    },
    {
      "cell_type": "code",
      "execution_count": 1,
      "metadata": {
        "colab": {
          "base_uri": "https://localhost:8080/"
        },
        "id": "qKtoNwiMXjCT",
        "outputId": "5c5179b6-d6b1-4903-e108-3d5f97a80cc5"
      },
      "outputs": [
        {
          "output_type": "stream",
          "name": "stdout",
          "text": [
            "Warning: Looks like you're using an outdated `kagglehub` version (installed: 0.3.6), please consider upgrading to the latest version (0.3.7).\n",
            "Downloading from https://www.kaggle.com/api/v1/datasets/download/mloey1/ahcd1?dataset_version_number=2...\n"
          ]
        },
        {
          "output_type": "stream",
          "name": "stderr",
          "text": [
            "100%|██████████| 24.0M/24.0M [00:00<00:00, 74.2MB/s]"
          ]
        },
        {
          "output_type": "stream",
          "name": "stdout",
          "text": [
            "Extracting files...\n"
          ]
        },
        {
          "output_type": "stream",
          "name": "stderr",
          "text": [
            "\n"
          ]
        },
        {
          "output_type": "stream",
          "name": "stdout",
          "text": [
            "Data source import complete.\n"
          ]
        }
      ],
      "source": [
        "# IMPORTANT: RUN THIS CELL IN ORDER TO IMPORT YOUR KAGGLE DATA SOURCES,\n",
        "# THEN FEEL FREE TO DELETE THIS CELL.\n",
        "# NOTE: THIS NOTEBOOK ENVIRONMENT DIFFERS FROM KAGGLE'S PYTHON\n",
        "# ENVIRONMENT SO THERE MAY BE MISSING LIBRARIES USED BY YOUR\n",
        "# NOTEBOOK.\n",
        "import kagglehub\n",
        "mloey1_ahcd1_path = kagglehub.dataset_download('mloey1/ahcd1')\n",
        "\n",
        "print('Data source import complete.')"
      ]
    },
    {
      "cell_type": "code",
      "source": [
        "import numpy as np\n",
        "import pandas as pd\n",
        "import matplotlib.pyplot as plt\n",
        "import seaborn as sns\n",
        "\n",
        "from PIL import Image, ImageDraw, ImageFont\n",
        "import random\n",
        "import os\n",
        "\n",
        "import tensorflow as tf\n",
        "from tensorflow.keras.utils import to_categorical\n",
        "from tensorflow.keras.models import Sequential, load_model\n",
        "from tensorflow.keras.layers import Input, Conv2D, MaxPooling2D, BatchNormalization, Flatten, Dense, Dropout\n",
        "from tensorflow.keras.optimizers import Adam\n",
        "from tensorflow.keras.preprocessing.image import ImageDataGenerator\n",
        "from tensorflow.keras.callbacks import ModelCheckpoint\n",
        "from tensorflow.keras.utils import plot_model\n",
        "import cv2"
      ],
      "metadata": {
        "id": "H1GSOvxxXssX"
      },
      "execution_count": 14,
      "outputs": []
    },
    {
      "cell_type": "code",
      "source": [
        "Train_Images = pd.read_csv(mloey1_ahcd1_path + \"/csvTrainImages 13440x1024.csv\")\n",
        "Train_Labels = pd.read_csv(mloey1_ahcd1_path + \"/csvTrainLabel 13440x1.csv\")\n",
        "\n",
        "Test_Images = pd.read_csv(mloey1_ahcd1_path + \"/csvTestImages 3360x1024.csv\")\n",
        "Test_Labels = pd.read_csv(mloey1_ahcd1_path + \"/csvTestLabel 3360x1.csv\")\n",
        "\n",
        "print(f\"Train Iamges : {Train_Images.shape} | Train Labels : {Train_Labels.shape}\")\n",
        "print(f\"Test  Iamges : {Test_Images.shape} | Test  Labels : {Test_Labels.shape}\")"
      ],
      "metadata": {
        "colab": {
          "base_uri": "https://localhost:8080/"
        },
        "id": "zoY1dzuUX40m",
        "outputId": "8adbea29-f428-4725-e1de-0ac70e030714"
      },
      "execution_count": 3,
      "outputs": [
        {
          "output_type": "stream",
          "name": "stdout",
          "text": [
            "Train Iamges : (13439, 1024) | Train Labels : (13439, 1)\n",
            "Test  Iamges : (3359, 1024) | Test  Labels : (3359, 1)\n"
          ]
        }
      ]
    },
    {
      "cell_type": "code",
      "source": [
        "arabic_letters = ['ا', 'ب', 'ت', 'ث', 'ج', 'ح', 'خ', 'د', 'ذ', 'ر', 'ز', 'س', 'ش', 'ص', 'ض', 'ط', 'ظ', 'ع', 'غ', 'ف', 'ق', 'ك', 'ل', 'م', 'ن', 'ه', 'و', 'ي']\n",
        "\n",
        "arabic_punctuations = [\"،\", \"؛\", \"؟\", \"!\", \"...\", \"«\", \"»\", \"”\", \"“\", \"(\", \")\"]\n",
        "\n",
        "arabic_chars = arabic_letters + arabic_punctuations"
      ],
      "metadata": {
        "id": "0PVI1O0nX8Ie"
      },
      "execution_count": 5,
      "outputs": []
    },
    {
      "cell_type": "code",
      "source": [
        "!rm -r /content/punctuation_marks\n",
        "\n",
        "def generate_punctuation_image(punctuation_mark, font_path, image_size=32, variation=0):\n",
        "    \"\"\"Generates an image of a punctuation mark with slight variations.\"\"\"\n",
        "    img = Image.new('L', (image_size, image_size), color=0)  # 'L' for grayscale\n",
        "    d = ImageDraw.Draw(img)\n",
        "    font_size = int(image_size * 0.8)  # Adjust font size\n",
        "    try:\n",
        "        font = ImageFont.truetype(font_path, font_size)\n",
        "    except IOError:\n",
        "        print(f\"Font not found at {font_path}\")\n",
        "        return None\n",
        "\n",
        "    bbox = d.textbbox((0, 0), punctuation_mark, font=font)\n",
        "    text_width = bbox[2] - bbox[0]\n",
        "    text_height = bbox[3] - bbox[1]\n",
        "\n",
        "    # Introduce slight variations in position and size\n",
        "    x_offset = random.randint(-3, 3)\n",
        "    size_variation = random.uniform(0.9, 1) * (1 + variation * 0.05)\n",
        "\n",
        "    x = (image_size - text_width * size_variation) / 2 + x_offset\n",
        "    y = 2 + size_variation\n",
        "\n",
        "    d.text((x, y), punctuation_mark, fill=255, font=font, anchor=\"lt\", scale=size_variation)\n",
        "\n",
        "    # Convert to NumPy array and reshape\n",
        "    img_array = np.array(img)\n",
        "    img_array = img_array.reshape(image_size, image_size, 1)\n",
        "\n",
        "    flipped_img = np.fliplr(img_array)\n",
        "\n",
        "    img_array = np.rot90(flipped_img, k=1, axes=(0, 1))\n",
        "\n",
        "    return img_array\n",
        "\n",
        "\n",
        "# --- Main execution ---\n",
        "font_path = \"/content/font.ttf\"\n",
        "output_dir = \"punctuation_marks\"\n",
        "\n",
        "# Create output directory if it doesn't exist\n",
        "if not os.path.exists(output_dir):\n",
        "    os.makedirs(output_dir)\n",
        "\n",
        "punctuation_data = []\n",
        "punctuation_labels = []\n",
        "\n",
        "for l, mark in enumerate(arabic_punctuations):\n",
        "  for i in range(50):\n",
        "    img_array = generate_punctuation_image(mark, font_path, image_size=32, variation=i)\n",
        "    if img_array is not None:\n",
        "        filename = f\"{output_dir}/punct({mark}){i}.npy\"\n",
        "        punctuation_data.append(img_array)\n",
        "        punctuation_labels.append(l + 28)\n",
        "        try:\n",
        "            np.save(filename, img_array)  # Save as NumPy array\n",
        "        except Exception as e:\n",
        "            print(f\"Error saving {filename}: {e}\")\n",
        "\n",
        "punctuation_data = np.array(punctuation_data)\n",
        "punctuation_labels = np.array(punctuation_labels).reshape(len(punctuation_labels), 1)"
      ],
      "metadata": {
        "id": "JmH5QyjOYGMq"
      },
      "execution_count": 77,
      "outputs": []
    },
    {
      "cell_type": "code",
      "source": [
        "ra = np.random.randint(0, punctuation_data.shape[0], size=11)\n",
        "filenames = [f for f in os.listdir(output_dir) if f.endswith('.npy')]\n",
        "\n",
        "plt.figure(figsize=(12, 12))\n",
        "for i in range(10):\n",
        "    plt.subplot(3, 4, i + 1)\n",
        "    plt.xticks([])\n",
        "    plt.yticks([])\n",
        "    plt.imshow(punctuation_data[ra[i]].reshape(32, 32).T, \"gray\")\n",
        "    plt.xlabel(arabic_chars[int(punctuation_labels[ra[i]][0])], fontsize=20, color='black', ha='center')\n",
        "    plt.subplots_adjust(hspace=0.5)\n",
        "plt.show()"
      ],
      "metadata": {
        "colab": {
          "base_uri": "https://localhost:8080/",
          "height": 965
        },
        "id": "cdOsD1yWduXf",
        "outputId": "b4fc3088-4de4-4e24-89d2-9eb329ac4d2e"
      },
      "execution_count": 83,
      "outputs": [
        {
          "output_type": "display_data",
          "data": {
            "text/plain": [
              "<Figure size 1200x1200 with 10 Axes>"
            ],
            "image/png": "[encoded data removed]"
          },
          "metadata": {}
        }
      ]
    },
    {
      "cell_type": "code",
      "source": [
        "x_train = Train_Images.to_numpy()\n",
        "y_train = Train_Labels.to_numpy()-1\n",
        "x_train = x_train.reshape(-1,32,32,1)\n",
        "x_train = x_train / 255.0\n",
        "\n",
        "x_test = Test_Images.to_numpy()\n",
        "x_test  = x_test.reshape(-1,32,32,1)\n",
        "y_test = Test_Labels.to_numpy()-1\n",
        "x_test  = x_test / 255.0\n",
        "\n",
        "print(f\"X_Train Shape : {x_train.shape}\")\n",
        "print(f\"X_Test  Shape : {x_test.shape}\")\n",
        "print(f\"Y_Train Shape : {y_train.shape}\")\n",
        "print(f\"Y_Test  Shape : {y_test.shape}\")"
      ],
      "metadata": {
        "colab": {
          "base_uri": "https://localhost:8080/"
        },
        "id": "gHjvUVRXYcd2",
        "outputId": "b4aebf23-2cba-4caf-d6e2-92ee7109c0fa"
      },
      "execution_count": 84,
      "outputs": [
        {
          "output_type": "stream",
          "name": "stdout",
          "text": [
            "X_Train Shape : (13439, 32, 32, 1)\n",
            "X_Test  Shape : (3359, 32, 32, 1)\n",
            "Y_Train Shape : (13439, 1)\n",
            "Y_Test  Shape : (3359, 1)\n"
          ]
        }
      ]
    },
    {
      "cell_type": "code",
      "source": [
        "x_train_concat = np.concatenate([x_train, punctuation_data])\n",
        "y_train_concat = np.concatenate([y_train, punctuation_labels])\n",
        "\n",
        "x_test_concat = np.concatenate([x_test, punctuation_data])\n",
        "y_test_concat = np.concatenate([y_test, punctuation_labels])\n",
        "\n",
        "x_train_concat.shape, y_train_concat.shape"
      ],
      "metadata": {
        "colab": {
          "base_uri": "https://localhost:8080/"
        },
        "id": "IkYqsVGTZLfs",
        "outputId": "998d27a2-914a-4be6-db2d-541f5671980c"
      },
      "execution_count": 85,
      "outputs": [
        {
          "output_type": "execute_result",
          "data": {
            "text/plain": [
              "((13989, 32, 32, 1), (13989, 1))"
            ]
          },
          "metadata": {},
          "execution_count": 85
        }
      ]
    },
    {
      "cell_type": "code",
      "source": [
        "ra = np.random.randint(13400, 13450, size=25)\n",
        "plt.figure(figsize=(10, 10))\n",
        "for i in range(12):\n",
        "    plt.subplot(5, 6, i + 1)\n",
        "    plt.xticks([])\n",
        "    plt.yticks([])\n",
        "    plt.imshow(x_train_concat[ra[i]].reshape(32, 32).T, \"gray\")\n",
        "    plt.xlabel(arabic_chars[int(y_train_concat[ra[i]][0])], fontsize=18, color='black', ha='center')\n",
        "    plt.subplots_adjust(hspace=0.5)\n",
        "plt.show()"
      ],
      "metadata": {
        "colab": {
          "base_uri": "https://localhost:8080/",
          "height": 341
        },
        "id": "PiuAZIBmZMh7",
        "outputId": "c996d1f0-2a75-4a06-fcb5-efb5309f1f44"
      },
      "execution_count": 91,
      "outputs": [
        {
          "output_type": "display_data",
          "data": {
            "text/plain": [
              "<Figure size 1000x1000 with 12 Axes>"
            ],
            "image/png": "[encoded data removed]"
          },
          "metadata": {}
        }
      ]
    },
    {
      "cell_type": "code",
      "source": [
        "y_train_concat = to_categorical(y_train_concat)\n",
        "y_test_concat  = to_categorical(y_test_concat)\n",
        "print(y_train_concat.shape, y_test_concat.shape)"
      ],
      "metadata": {
        "colab": {
          "base_uri": "https://localhost:8080/"
        },
        "id": "lVWycygqZZtN",
        "outputId": "db245a2f-4f87-4995-caa2-2124c9903774"
      },
      "execution_count": 92,
      "outputs": [
        {
          "output_type": "stream",
          "name": "stdout",
          "text": [
            "(13989, 39) (3909, 39)\n"
          ]
        }
      ]
    },
    {
      "cell_type": "code",
      "source": [
        "model = Sequential([\n",
        "    Input(shape=(32, 32, 1)),\n",
        "\n",
        "    Conv2D(32, (5, 5), padding=\"same\", activation=\"relu\"),\n",
        "    Conv2D(32, (5, 5), activation=\"relu\"),\n",
        "    Conv2D(32, (5, 5), activation=\"relu\"),\n",
        "    MaxPooling2D((2, 2)),\n",
        "    BatchNormalization(),\n",
        "\n",
        "    Conv2D(64, (5, 5), padding=\"same\", activation=\"relu\"),\n",
        "    Conv2D(64, (5, 5), activation=\"relu\"),\n",
        "    Conv2D(64, (5, 5), activation=\"relu\"),\n",
        "    MaxPooling2D((2, 2)),\n",
        "    BatchNormalization(),\n",
        "\n",
        "    Flatten(),\n",
        "    Dense(128, activation=\"relu\"),\n",
        "    Dense(128, activation=\"relu\"),\n",
        "    Dropout(0.4),\n",
        "\n",
        "    Dense(39, activation=\"softmax\")\n",
        "])\n",
        "\n",
        "opt = Adam(1e-3)\n",
        "\n",
        "model.compile(loss=\"categorical_crossentropy\", optimizer=opt, metrics=[\"accuracy\"])\n",
        "\n",
        "model.summary()\n",
        "plot_model(model, show_shapes=True)"
      ],
      "metadata": {
        "id": "k6SVxu8fZoBF"
      },
      "execution_count": 93,
      "outputs": []
    },
    {
      "cell_type": "code",
      "source": [
        "datagen = ImageDataGenerator(\n",
        "    featurewise_center=False,\n",
        "    samplewise_center=False,\n",
        "    featurewise_std_normalization=False,\n",
        "    samplewise_std_normalization=False,\n",
        "    zca_whitening=False,\n",
        "    rotation_range=10,\n",
        "    zoom_range=0.1,\n",
        "    width_shift_range=0.1,\n",
        "    height_shift_range=0.1,\n",
        "    horizontal_flip=False,\n",
        "    vertical_flip=False\n",
        ")\n",
        "train_gen = datagen.flow(x_train_concat, y_train_concat, batch_size=64)\n",
        "test_gen  = datagen.flow(x_test_concat, y_test_concat , batch_size=64)"
      ],
      "metadata": {
        "id": "1yFcC_pmZ1Lj"
      },
      "execution_count": 94,
      "outputs": []
    },
    {
      "cell_type": "code",
      "source": [
        "model_checkpoint_callback = ModelCheckpoint(\n",
        "    filepath=\"best.keras\",\n",
        "    monitor='val_accuracy',\n",
        "    verbose=1,\n",
        "    save_best_only=True,\n",
        "    mode='max'\n",
        ")\n",
        "\n",
        "history = model.fit(\n",
        "    train_gen,\n",
        "    epochs=48,\n",
        "    verbose=1,\n",
        "    steps_per_epoch=x_train.shape[0] // 64,\n",
        "    validation_data=test_gen,\n",
        "    validation_steps=x_test.shape[0] // 64,\n",
        "    callbacks=[model_checkpoint_callback]\n",
        ")"
      ],
      "metadata": {
        "colab": {
          "base_uri": "https://localhost:8080/"
        },
        "id": "CAGjon27aC1r",
        "outputId": "9508f9c9-9bb9-4d98-b4a1-28b8a9ee6507"
      },
      "execution_count": 95,
      "outputs": [
        {
          "output_type": "stream",
          "name": "stdout",
          "text": [
            "Epoch 1/48\n"
          ]
        },
        {
          "output_type": "stream",
          "name": "stderr",
          "text": [
            "/usr/local/lib/python3.11/dist-packages/keras/src/trainers/data_adapters/py_dataset_adapter.py:121: UserWarning: Your `PyDataset` class should call `super().__init__(**kwargs)` in its constructor. `**kwargs` can include `workers`, `use_multiprocessing`, `max_queue_size`. Do not pass these arguments to `fit()`, as they will be ignored.\n",
            "  self._warn_if_super_not_called()\n"
          ]
        },
        {
          "output_type": "stream",
          "name": "stdout",
          "text": [
            "\u001b[1m209/209\u001b[0m \u001b[32m━━━━━━━━━━━━━━━━━━━━\u001b[0m\u001b[37m\u001b[0m \u001b[1m0s\u001b[0m 44ms/step - accuracy: 0.0650 - loss: 3.4464\n",
            "Epoch 1: val_accuracy improved from -inf to 0.10968, saving model to best.keras\n",
            "\u001b[1m209/209\u001b[0m \u001b[32m━━━━━━━━━━━━━━━━━━━━\u001b[0m\u001b[37m\u001b[0m \u001b[1m18s\u001b[0m 53ms/step - accuracy: 0.0652 - loss: 3.4449 - val_accuracy: 0.1097 - val_loss: 2.9215\n",
            "Epoch 2/48\n",
            "\u001b[1m  8/209\u001b[0m \u001b[37m━━━━━━━━━━━━━━━━━━━━\u001b[0m \u001b[1m3s\u001b[0m 16ms/step - accuracy: 0.1915 - loss: 2.4547"
          ]
        },
        {
          "output_type": "stream",
          "name": "stderr",
          "text": [
            "/usr/local/lib/python3.11/dist-packages/keras/src/trainers/epoch_iterator.py:107: UserWarning: Your input ran out of data; interrupting training. Make sure that your dataset or generator can generate at least `steps_per_epoch * epochs` batches. You may need to use the `.repeat()` function when building your dataset.\n",
            "  self._interrupted_warning()\n"
          ]
        },
        {
          "output_type": "stream",
          "name": "stdout",
          "text": [
            "\n",
            "Epoch 2: val_accuracy did not improve from 0.10968\n",
            "\u001b[1m209/209\u001b[0m \u001b[32m━━━━━━━━━━━━━━━━━━━━\u001b[0m\u001b[37m\u001b[0m \u001b[1m3s\u001b[0m 13ms/step - accuracy: 0.2192 - loss: 2.3655 - val_accuracy: 0.0832 - val_loss: 3.2924\n",
            "Epoch 3/48\n",
            "\u001b[1m209/209\u001b[0m \u001b[32m━━━━━━━━━━━━━━━━━━━━\u001b[0m\u001b[37m\u001b[0m \u001b[1m0s\u001b[0m 23ms/step - accuracy: 0.3500 - loss: 1.9362\n",
            "Epoch 3: val_accuracy improved from 0.10968 to 0.23017, saving model to best.keras\n",
            "\u001b[1m209/209\u001b[0m \u001b[32m━━━━━━━━━━━━━━━━━━━━\u001b[0m\u001b[37m\u001b[0m \u001b[1m9s\u001b[0m 28ms/step - accuracy: 0.3504 - loss: 1.9348 - val_accuracy: 0.2302 - val_loss: 2.8617\n",
            "Epoch 4/48\n",
            "\u001b[1m 10/209\u001b[0m \u001b[37m━━━━━━━━━━━━━━━━━━━━\u001b[0m \u001b[1m4s\u001b[0m 21ms/step - accuracy: 0.5625 - loss: 1.2434\n",
            "Epoch 4: val_accuracy improved from 0.23017 to 0.26472, saving model to best.keras\n",
            "\u001b[1m209/209\u001b[0m \u001b[32m━━━━━━━━━━━━━━━━━━━━\u001b[0m\u001b[37m\u001b[0m \u001b[1m2s\u001b[0m 7ms/step - accuracy: 0.5774 - loss: 1.2138 - val_accuracy: 0.2647 - val_loss: 2.4594\n",
            "Epoch 5/48\n",
            "\u001b[1m209/209\u001b[0m \u001b[32m━━━━━━━━━━━━━━━━━━━━\u001b[0m\u001b[37m\u001b[0m \u001b[1m0s\u001b[0m 23ms/step - accuracy: 0.6490 - loss: 0.9874\n",
            "Epoch 5: val_accuracy improved from 0.26472 to 0.41617, saving model to best.keras\n",
            "\u001b[1m209/209\u001b[0m \u001b[32m━━━━━━━━━━━━━━━━━━━━\u001b[0m\u001b[37m\u001b[0m \u001b[1m9s\u001b[0m 30ms/step - accuracy: 0.6491 - loss: 0.9870 - val_accuracy: 0.4162 - val_loss: 1.8336\n",
            "Epoch 6/48\n",
            "\u001b[1m  9/209\u001b[0m \u001b[37m━━━━━━━━━━━━━━━━━━━━\u001b[0m \u001b[1m4s\u001b[0m 23ms/step - accuracy: 0.7200 - loss: 0.9471\n",
            "Epoch 6: val_accuracy did not improve from 0.41617\n",
            "\u001b[1m209/209\u001b[0m \u001b[32m━━━━━━━━━━━━━━━━━━━━\u001b[0m\u001b[37m\u001b[0m \u001b[1m1s\u001b[0m 6ms/step - accuracy: 0.7367 - loss: 0.8348 - val_accuracy: 0.3870 - val_loss: 2.2687\n",
            "Epoch 7/48\n",
            "\u001b[1m209/209\u001b[0m \u001b[32m━━━━━━━━━━━━━━━━━━━━\u001b[0m\u001b[37m\u001b[0m \u001b[1m0s\u001b[0m 23ms/step - accuracy: 0.7744 - loss: 0.6830\n",
            "Epoch 7: val_accuracy improved from 0.41617 to 0.65625, saving model to best.keras\n",
            "\u001b[1m209/209\u001b[0m \u001b[32m━━━━━━━━━━━━━━━━━━━━\u001b[0m\u001b[37m\u001b[0m \u001b[1m10s\u001b[0m 36ms/step - accuracy: 0.7745 - loss: 0.6828 - val_accuracy: 0.6562 - val_loss: 0.9801\n",
            "Epoch 8/48\n",
            "\u001b[1m 10/209\u001b[0m \u001b[37m━━━━━━━━━━━━━━━━━━━━\u001b[0m \u001b[1m4s\u001b[0m 21ms/step - accuracy: 0.8137 - loss: 0.5400\n",
            "Epoch 8: val_accuracy improved from 0.65625 to 0.67007, saving model to best.keras\n",
            "\u001b[1m209/209\u001b[0m \u001b[32m━━━━━━━━━━━━━━━━━━━━\u001b[0m\u001b[37m\u001b[0m \u001b[1m1s\u001b[0m 6ms/step - accuracy: 0.8200 - loss: 0.5258 - val_accuracy: 0.6701 - val_loss: 1.0594\n",
            "Epoch 9/48\n",
            "\u001b[1m209/209\u001b[0m \u001b[32m━━━━━━━━━━━━━━━━━━━━\u001b[0m\u001b[37m\u001b[0m \u001b[1m0s\u001b[0m 28ms/step - accuracy: 0.8239 - loss: 0.5501\n",
            "Epoch 9: val_accuracy improved from 0.67007 to 0.75871, saving model to best.keras\n",
            "\u001b[1m209/209\u001b[0m \u001b[32m━━━━━━━━━━━━━━━━━━━━\u001b[0m\u001b[37m\u001b[0m \u001b[1m10s\u001b[0m 49ms/step - accuracy: 0.8240 - loss: 0.5499 - val_accuracy: 0.7587 - val_loss: 0.7035\n",
            "Epoch 10/48\n",
            "\u001b[1m 10/209\u001b[0m \u001b[37m━━━━━━━━━━━━━━━━━━━━\u001b[0m \u001b[1m4s\u001b[0m 21ms/step - accuracy: 0.8336 - loss: 0.5615\n",
            "Epoch 10: val_accuracy improved from 0.75871 to 0.85968, saving model to best.keras\n",
            "\u001b[1m209/209\u001b[0m \u001b[32m━━━━━━━━━━━━━━━━━━━━\u001b[0m\u001b[37m\u001b[0m \u001b[1m1s\u001b[0m 6ms/step - accuracy: 0.8552 - loss: 0.5084 - val_accuracy: 0.8597 - val_loss: 0.4610\n",
            "Epoch 11/48\n",
            "\u001b[1m208/209\u001b[0m \u001b[32m━━━━━━━━━━━━━━━━━━━\u001b[0m\u001b[37m━\u001b[0m \u001b[1m0s\u001b[0m 28ms/step - accuracy: 0.8720 - loss: 0.4078\n",
            "Epoch 11: val_accuracy did not improve from 0.85968\n",
            "\u001b[1m209/209\u001b[0m \u001b[32m━━━━━━━━━━━━━━━━━━━━\u001b[0m\u001b[37m\u001b[0m \u001b[1m10s\u001b[0m 48ms/step - accuracy: 0.8720 - loss: 0.4077 - val_accuracy: 0.8380 - val_loss: 0.4893\n",
            "Epoch 12/48\n",
            "\u001b[1m  8/209\u001b[0m \u001b[37m━━━━━━━━━━━━━━━━━━━━\u001b[0m \u001b[1m5s\u001b[0m 25ms/step - accuracy: 0.9008 - loss: 0.3512\n",
            "Epoch 12: val_accuracy did not improve from 0.85968\n",
            "\u001b[1m209/209\u001b[0m \u001b[32m━━━━━━━━━━━━━━━━━━━━\u001b[0m\u001b[37m\u001b[0m \u001b[1m1s\u001b[0m 6ms/step - accuracy: 0.8805 - loss: 0.3850 - val_accuracy: 0.8371 - val_loss: 0.4873\n",
            "Epoch 13/48\n",
            "\u001b[1m208/209\u001b[0m \u001b[32m━━━━━━━━━━━━━━━━━━━\u001b[0m\u001b[37m━\u001b[0m \u001b[1m0s\u001b[0m 25ms/step - accuracy: 0.8842 - loss: 0.3826\n",
            "Epoch 13: val_accuracy did not improve from 0.85968\n",
            "\u001b[1m209/209\u001b[0m \u001b[32m━━━━━━━━━━━━━━━━━━━━\u001b[0m\u001b[37m\u001b[0m \u001b[1m21s\u001b[0m 55ms/step - accuracy: 0.8843 - loss: 0.3823 - val_accuracy: 0.8522 - val_loss: 0.4702\n",
            "Epoch 14/48\n",
            "\u001b[1m 10/209\u001b[0m \u001b[37m━━━━━━━━━━━━━━━━━━━━\u001b[0m \u001b[1m5s\u001b[0m 26ms/step - accuracy: 0.9087 - loss: 0.2846\n",
            "Epoch 14: val_accuracy improved from 0.85968 to 0.86629, saving model to best.keras\n",
            "\u001b[1m209/209\u001b[0m \u001b[32m━━━━━━━━━━━━━━━━━━━━\u001b[0m\u001b[37m\u001b[0m \u001b[1m3s\u001b[0m 13ms/step - accuracy: 0.9079 - loss: 0.2993 - val_accuracy: 0.8663 - val_loss: 0.4156\n",
            "Epoch 15/48\n",
            "\u001b[1m208/209\u001b[0m \u001b[32m━━━━━━━━━━━━━━━━━━━\u001b[0m\u001b[37m━\u001b[0m \u001b[1m0s\u001b[0m 26ms/step - accuracy: 0.9075 - loss: 0.3103\n",
            "Epoch 15: val_accuracy improved from 0.86629 to 0.87981, saving model to best.keras\n",
            "\u001b[1m209/209\u001b[0m \u001b[32m━━━━━━━━━━━━━━━━━━━━\u001b[0m\u001b[37m\u001b[0m \u001b[1m7s\u001b[0m 35ms/step - accuracy: 0.9075 - loss: 0.3102 - val_accuracy: 0.8798 - val_loss: 0.3952\n",
            "Epoch 16/48\n",
            "\u001b[1m  9/209\u001b[0m \u001b[37m━━━━━━━━━━━━━━━━━━━━\u001b[0m \u001b[1m6s\u001b[0m 33ms/step - accuracy: 0.9428 - loss: 0.2178\n",
            "Epoch 16: val_accuracy improved from 0.87981 to 0.91436, saving model to best.keras\n",
            "\u001b[1m209/209\u001b[0m \u001b[32m━━━━━━━━━━━━━━━━━━━━\u001b[0m\u001b[37m\u001b[0m \u001b[1m2s\u001b[0m 7ms/step - accuracy: 0.9377 - loss: 0.2439 - val_accuracy: 0.9144 - val_loss: 0.2789\n",
            "Epoch 17/48\n",
            "\u001b[1m207/209\u001b[0m \u001b[32m━━━━━━━━━━━━━━━━━━━\u001b[0m\u001b[37m━\u001b[0m \u001b[1m0s\u001b[0m 24ms/step - accuracy: 0.9154 - loss: 0.2624\n",
            "Epoch 17: val_accuracy improved from 0.91436 to 0.92037, saving model to best.keras\n",
            "\u001b[1m209/209\u001b[0m \u001b[32m━━━━━━━━━━━━━━━━━━━━\u001b[0m\u001b[37m\u001b[0m \u001b[1m6s\u001b[0m 29ms/step - accuracy: 0.9154 - loss: 0.2625 - val_accuracy: 0.9204 - val_loss: 0.2497\n",
            "Epoch 18/48\n",
            "\u001b[1m  9/209\u001b[0m \u001b[37m━━━━━━━━━━━━━━━━━━━━\u001b[0m \u001b[1m4s\u001b[0m 21ms/step - accuracy: 0.9234 - loss: 0.2667\n",
            "Epoch 18: val_accuracy did not improve from 0.92037\n",
            "\u001b[1m209/209\u001b[0m \u001b[32m━━━━━━━━━━━━━━━━━━━━\u001b[0m\u001b[37m\u001b[0m \u001b[1m1s\u001b[0m 6ms/step - accuracy: 0.9204 - loss: 0.2716 - val_accuracy: 0.9069 - val_loss: 0.2887\n",
            "Epoch 19/48\n",
            "\u001b[1m207/209\u001b[0m \u001b[32m━━━━━━━━━━━━━━━━━━━\u001b[0m\u001b[37m━\u001b[0m \u001b[1m0s\u001b[0m 24ms/step - accuracy: 0.9261 - loss: 0.2503\n",
            "Epoch 19: val_accuracy did not improve from 0.92037\n",
            "\u001b[1m209/209\u001b[0m \u001b[32m━━━━━━━━━━━━━━━━━━━━\u001b[0m\u001b[37m\u001b[0m \u001b[1m10s\u001b[0m 35ms/step - accuracy: 0.9260 - loss: 0.2503 - val_accuracy: 0.7987 - val_loss: 0.6173\n",
            "Epoch 20/48\n",
            "\u001b[1m  9/209\u001b[0m \u001b[37m━━━━━━━━━━━━━━━━━━━━\u001b[0m \u001b[1m5s\u001b[0m 25ms/step - accuracy: 0.9133 - loss: 0.2803\n",
            "Epoch 20: val_accuracy improved from 0.92037 to 0.92578, saving model to best.keras\n",
            "\u001b[1m209/209\u001b[0m \u001b[32m━━━━━━━━━━━━━━━━━━━━\u001b[0m\u001b[37m\u001b[0m \u001b[1m1s\u001b[0m 7ms/step - accuracy: 0.9200 - loss: 0.2522 - val_accuracy: 0.9258 - val_loss: 0.2323\n",
            "Epoch 21/48\n",
            "\u001b[1m209/209\u001b[0m \u001b[32m━━━━━━━━━━━━━━━━━━━━\u001b[0m\u001b[37m\u001b[0m \u001b[1m0s\u001b[0m 29ms/step - accuracy: 0.9280 - loss: 0.2356\n",
            "Epoch 21: val_accuracy did not improve from 0.92578\n",
            "\u001b[1m209/209\u001b[0m \u001b[32m━━━━━━━━━━━━━━━━━━━━\u001b[0m\u001b[37m\u001b[0m \u001b[1m10s\u001b[0m 48ms/step - accuracy: 0.9280 - loss: 0.2356 - val_accuracy: 0.9132 - val_loss: 0.2802\n",
            "Epoch 22/48\n",
            "\u001b[1m 10/209\u001b[0m \u001b[37m━━━━━━━━━━━━━━━━━━━━\u001b[0m \u001b[1m5s\u001b[0m 27ms/step - accuracy: 0.9515 - loss: 0.1953\n",
            "Epoch 22: val_accuracy did not improve from 0.92578\n",
            "\u001b[1m209/209\u001b[0m \u001b[32m━━━━━━━━━━━━━━━━━━━━\u001b[0m\u001b[37m\u001b[0m \u001b[1m1s\u001b[0m 6ms/step - accuracy: 0.9397 - loss: 0.2367 - val_accuracy: 0.9213 - val_loss: 0.2588\n",
            "Epoch 23/48\n",
            "\u001b[1m208/209\u001b[0m \u001b[32m━━━━━━━━━━━━━━━━━━━\u001b[0m\u001b[37m━\u001b[0m \u001b[1m0s\u001b[0m 26ms/step - accuracy: 0.9303 - loss: 0.2285\n",
            "Epoch 23: val_accuracy did not improve from 0.92578\n",
            "\u001b[1m209/209\u001b[0m \u001b[32m━━━━━━━━━━━━━━━━━━━━\u001b[0m\u001b[37m\u001b[0m \u001b[1m7s\u001b[0m 34ms/step - accuracy: 0.9303 - loss: 0.2285 - val_accuracy: 0.9093 - val_loss: 0.2912\n",
            "Epoch 24/48\n",
            "\u001b[1m 10/209\u001b[0m \u001b[37m━━━━━━━━━━━━━━━━━━━━\u001b[0m \u001b[1m6s\u001b[0m 32ms/step - accuracy: 0.9523 - loss: 0.1989\n",
            "Epoch 24: val_accuracy did not improve from 0.92578\n",
            "\u001b[1m209/209\u001b[0m \u001b[32m━━━━━━━━━━━━━━━━━━━━\u001b[0m\u001b[37m\u001b[0m \u001b[1m2s\u001b[0m 9ms/step - accuracy: 0.9412 - loss: 0.2011 - val_accuracy: 0.8867 - val_loss: 0.3493\n",
            "Epoch 25/48\n",
            "\u001b[1m209/209\u001b[0m \u001b[32m━━━━━━━━━━━━━━━━━━━━\u001b[0m\u001b[37m\u001b[0m \u001b[1m0s\u001b[0m 24ms/step - accuracy: 0.9385 - loss: 0.1985\n",
            "Epoch 25: val_accuracy did not improve from 0.92578\n",
            "\u001b[1m209/209\u001b[0m \u001b[32m━━━━━━━━━━━━━━━━━━━━\u001b[0m\u001b[37m\u001b[0m \u001b[1m7s\u001b[0m 29ms/step - accuracy: 0.9385 - loss: 0.1986 - val_accuracy: 0.9204 - val_loss: 0.2860\n",
            "Epoch 26/48\n",
            "\u001b[1m  8/209\u001b[0m \u001b[37m━━━━━━━━━━━━━━━━━━━━\u001b[0m \u001b[1m5s\u001b[0m 27ms/step - accuracy: 0.9638 - loss: 0.1372\n",
            "Epoch 26: val_accuracy improved from 0.92578 to 0.93480, saving model to best.keras\n",
            "\u001b[1m209/209\u001b[0m \u001b[32m━━━━━━━━━━━━━━━━━━━━\u001b[0m\u001b[37m\u001b[0m \u001b[1m1s\u001b[0m 7ms/step - accuracy: 0.9550 - loss: 0.1493 - val_accuracy: 0.9348 - val_loss: 0.2275\n",
            "Epoch 27/48\n",
            "\u001b[1m209/209\u001b[0m \u001b[32m━━━━━━━━━━━━━━━━━━━━\u001b[0m\u001b[37m\u001b[0m \u001b[1m0s\u001b[0m 27ms/step - accuracy: 0.9410 - loss: 0.1967\n",
            "Epoch 27: val_accuracy improved from 0.93480 to 0.95343, saving model to best.keras\n",
            "\u001b[1m209/209\u001b[0m \u001b[32m━━━━━━━━━━━━━━━━━━━━\u001b[0m\u001b[37m\u001b[0m \u001b[1m10s\u001b[0m 48ms/step - accuracy: 0.9411 - loss: 0.1967 - val_accuracy: 0.9534 - val_loss: 0.1497\n",
            "Epoch 28/48\n",
            "\u001b[1m 10/209\u001b[0m \u001b[37m━━━━━━━━━━━━━━━━━━━━\u001b[0m \u001b[1m4s\u001b[0m 21ms/step - accuracy: 0.9579 - loss: 0.1068\n",
            "Epoch 28: val_accuracy did not improve from 0.95343\n",
            "\u001b[1m209/209\u001b[0m \u001b[32m━━━━━━━━━━━━━━━━━━━━\u001b[0m\u001b[37m\u001b[0m \u001b[1m1s\u001b[0m 6ms/step - accuracy: 0.9519 - loss: 0.1354 - val_accuracy: 0.9480 - val_loss: 0.1797\n",
            "Epoch 29/48\n",
            "\u001b[1m209/209\u001b[0m \u001b[32m━━━━━━━━━━━━━━━━━━━━\u001b[0m\u001b[37m\u001b[0m \u001b[1m0s\u001b[0m 28ms/step - accuracy: 0.9456 - loss: 0.1808\n",
            "Epoch 29: val_accuracy did not improve from 0.95343\n",
            "\u001b[1m209/209\u001b[0m \u001b[32m━━━━━━━━━━━━━━━━━━━━\u001b[0m\u001b[37m\u001b[0m \u001b[1m11s\u001b[0m 50ms/step - accuracy: 0.9456 - loss: 0.1809 - val_accuracy: 0.9312 - val_loss: 0.2313\n",
            "Epoch 30/48\n",
            "\u001b[1m 10/209\u001b[0m \u001b[37m━━━━━━━━━━━━━━━━━━━━\u001b[0m \u001b[1m9s\u001b[0m 46ms/step - accuracy: 0.9487 - loss: 0.1998\n",
            "Epoch 30: val_accuracy improved from 0.95343 to 0.95583, saving model to best.keras\n",
            "\u001b[1m209/209\u001b[0m \u001b[32m━━━━━━━━━━━━━━━━━━━━\u001b[0m\u001b[37m\u001b[0m \u001b[1m3s\u001b[0m 14ms/step - accuracy: 0.9425 - loss: 0.1938 - val_accuracy: 0.9558 - val_loss: 0.1644\n",
            "Epoch 31/48\n",
            "\u001b[1m208/209\u001b[0m \u001b[32m━━━━━━━━━━━━━━━━━━━\u001b[0m\u001b[37m━\u001b[0m \u001b[1m0s\u001b[0m 28ms/step - accuracy: 0.9463 - loss: 0.1723\n",
            "Epoch 31: val_accuracy did not improve from 0.95583\n",
            "\u001b[1m209/209\u001b[0m \u001b[32m━━━━━━━━━━━━━━━━━━━━\u001b[0m\u001b[37m\u001b[0m \u001b[1m21s\u001b[0m 65ms/step - accuracy: 0.9463 - loss: 0.1724 - val_accuracy: 0.9345 - val_loss: 0.2444\n",
            "Epoch 32/48\n",
            "\u001b[1m 10/209\u001b[0m \u001b[37m━━━━━━━━━━━━━━━━━━━━\u001b[0m \u001b[1m5s\u001b[0m 29ms/step - accuracy: 0.9414 - loss: 0.2119\n",
            "Epoch 32: val_accuracy did not improve from 0.95583\n",
            "\u001b[1m209/209\u001b[0m \u001b[32m━━━━━━━━━━━━━━━━━━━━\u001b[0m\u001b[37m\u001b[0m \u001b[1m2s\u001b[0m 8ms/step - accuracy: 0.9466 - loss: 0.1854 - val_accuracy: 0.9387 - val_loss: 0.2163\n",
            "Epoch 33/48\n",
            "\u001b[1m207/209\u001b[0m \u001b[32m━━━━━━━━━━━━━━━━━━━\u001b[0m\u001b[37m━\u001b[0m \u001b[1m0s\u001b[0m 26ms/step - accuracy: 0.9526 - loss: 0.1604\n",
            "Epoch 33: val_accuracy did not improve from 0.95583\n",
            "\u001b[1m209/209\u001b[0m \u001b[32m━━━━━━━━━━━━━━━━━━━━\u001b[0m\u001b[37m\u001b[0m \u001b[1m20s\u001b[0m 71ms/step - accuracy: 0.9525 - loss: 0.1605 - val_accuracy: 0.9420 - val_loss: 0.2064\n",
            "Epoch 34/48\n",
            "\u001b[1m 10/209\u001b[0m \u001b[37m━━━━━━━━━━━━━━━━━━━━\u001b[0m \u001b[1m5s\u001b[0m 27ms/step - accuracy: 0.9397 - loss: 0.1709\n",
            "Epoch 34: val_accuracy did not improve from 0.95583\n",
            "\u001b[1m209/209\u001b[0m \u001b[32m━━━━━━━━━━━━━━━━━━━━\u001b[0m\u001b[37m\u001b[0m \u001b[1m1s\u001b[0m 6ms/step - accuracy: 0.9510 - loss: 0.1460 - val_accuracy: 0.9384 - val_loss: 0.2166\n",
            "Epoch 35/48\n",
            "\u001b[1m209/209\u001b[0m \u001b[32m━━━━━━━━━━━━━━━━━━━━\u001b[0m\u001b[37m\u001b[0m \u001b[1m0s\u001b[0m 33ms/step - accuracy: 0.9528 - loss: 0.1580\n",
            "Epoch 35: val_accuracy did not improve from 0.95583\n",
            "\u001b[1m209/209\u001b[0m \u001b[32m━━━━━━━━━━━━━━━━━━━━\u001b[0m\u001b[37m\u001b[0m \u001b[1m12s\u001b[0m 37ms/step - accuracy: 0.9528 - loss: 0.1581 - val_accuracy: 0.9156 - val_loss: 0.3018\n",
            "Epoch 36/48\n",
            "\u001b[1m  8/209\u001b[0m \u001b[37m━━━━━━━━━━━━━━━━━━━━\u001b[0m \u001b[1m5s\u001b[0m 25ms/step - accuracy: 0.9463 - loss: 0.2361\n",
            "Epoch 36: val_accuracy did not improve from 0.95583\n",
            "\u001b[1m209/209\u001b[0m \u001b[32m━━━━━━━━━━━━━━━━━━━━\u001b[0m\u001b[37m\u001b[0m \u001b[1m1s\u001b[0m 6ms/step - accuracy: 0.9462 - loss: 0.1907 - val_accuracy: 0.9270 - val_loss: 0.2340\n",
            "Epoch 37/48\n",
            "\u001b[1m209/209\u001b[0m \u001b[32m━━━━━━━━━━━━━━━━━━━━\u001b[0m\u001b[37m\u001b[0m \u001b[1m0s\u001b[0m 27ms/step - accuracy: 0.9515 - loss: 0.1658\n",
            "Epoch 37: val_accuracy improved from 0.95583 to 0.95703, saving model to best.keras\n",
            "\u001b[1m209/209\u001b[0m \u001b[32m━━━━━━━━━━━━━━━━━━━━\u001b[0m\u001b[37m\u001b[0m \u001b[1m10s\u001b[0m 49ms/step - accuracy: 0.9515 - loss: 0.1657 - val_accuracy: 0.9570 - val_loss: 0.1500\n",
            "Epoch 38/48\n",
            "\u001b[1m 10/209\u001b[0m \u001b[37m━━━━━━━━━━━━━━━━━━━━\u001b[0m \u001b[1m4s\u001b[0m 22ms/step - accuracy: 0.9653 - loss: 0.1424\n",
            "Epoch 38: val_accuracy did not improve from 0.95703\n",
            "\u001b[1m209/209\u001b[0m \u001b[32m━━━━━━━━━━━━━━━━━━━━\u001b[0m\u001b[37m\u001b[0m \u001b[1m1s\u001b[0m 6ms/step - accuracy: 0.9537 - loss: 0.1554 - val_accuracy: 0.9321 - val_loss: 0.2455\n",
            "Epoch 39/48\n",
            "\u001b[1m208/209\u001b[0m \u001b[32m━━━━━━━━━━━━━━━━━━━\u001b[0m\u001b[37m━\u001b[0m \u001b[1m0s\u001b[0m 26ms/step - accuracy: 0.9597 - loss: 0.1466\n",
            "Epoch 39: val_accuracy did not improve from 0.95703\n",
            "\u001b[1m209/209\u001b[0m \u001b[32m━━━━━━━━━━━━━━━━━━━━\u001b[0m\u001b[37m\u001b[0m \u001b[1m10s\u001b[0m 50ms/step - accuracy: 0.9596 - loss: 0.1466 - val_accuracy: 0.9474 - val_loss: 0.1898\n",
            "Epoch 40/48\n",
            "\u001b[1m 10/209\u001b[0m \u001b[37m━━━━━━━━━━━━━━━━━━━━\u001b[0m \u001b[1m5s\u001b[0m 25ms/step - accuracy: 0.9456 - loss: 0.1428\n",
            "Epoch 40: val_accuracy did not improve from 0.95703\n",
            "\u001b[1m209/209\u001b[0m \u001b[32m━━━━━━━━━━━━━━━━━━━━\u001b[0m\u001b[37m\u001b[0m \u001b[1m1s\u001b[0m 6ms/step - accuracy: 0.9468 - loss: 0.1469 - val_accuracy: 0.9471 - val_loss: 0.1846\n",
            "Epoch 41/48\n",
            "\u001b[1m207/209\u001b[0m \u001b[32m━━━━━━━━━━━━━━━━━━━\u001b[0m\u001b[37m━\u001b[0m \u001b[1m0s\u001b[0m 25ms/step - accuracy: 0.9590 - loss: 0.1364\n",
            "Epoch 41: val_accuracy did not improve from 0.95703\n",
            "\u001b[1m209/209\u001b[0m \u001b[32m━━━━━━━━━━━━━━━━━━━━\u001b[0m\u001b[37m\u001b[0m \u001b[1m10s\u001b[0m 49ms/step - accuracy: 0.9590 - loss: 0.1365 - val_accuracy: 0.9528 - val_loss: 0.1697\n",
            "Epoch 42/48\n",
            "\u001b[1m  8/209\u001b[0m \u001b[37m━━━━━━━━━━━━━━━━━━━━\u001b[0m \u001b[1m5s\u001b[0m 27ms/step - accuracy: 0.9516 - loss: 0.1127\n",
            "Epoch 42: val_accuracy did not improve from 0.95703\n",
            "\u001b[1m209/209\u001b[0m \u001b[32m━━━━━━━━━━━━━━━━━━━━\u001b[0m\u001b[37m\u001b[0m \u001b[1m1s\u001b[0m 6ms/step - accuracy: 0.9516 - loss: 0.1343 - val_accuracy: 0.9453 - val_loss: 0.1940\n",
            "Epoch 43/48\n",
            "\u001b[1m209/209\u001b[0m \u001b[32m━━━━━━━━━━━━━━━━━━━━\u001b[0m\u001b[37m\u001b[0m \u001b[1m0s\u001b[0m 24ms/step - accuracy: 0.9593 - loss: 0.1395\n",
            "Epoch 43: val_accuracy did not improve from 0.95703\n",
            "\u001b[1m209/209\u001b[0m \u001b[32m━━━━━━━━━━━━━━━━━━━━\u001b[0m\u001b[37m\u001b[0m \u001b[1m15s\u001b[0m 28ms/step - accuracy: 0.9593 - loss: 0.1395 - val_accuracy: 0.9552 - val_loss: 0.1518\n",
            "Epoch 44/48\n",
            "\u001b[1m  8/209\u001b[0m \u001b[37m━━━━━━━━━━━━━━━━━━━━\u001b[0m \u001b[1m5s\u001b[0m 25ms/step - accuracy: 0.9738 - loss: 0.0920\n",
            "Epoch 44: val_accuracy did not improve from 0.95703\n",
            "\u001b[1m209/209\u001b[0m \u001b[32m━━━━━━━━━━━━━━━━━━━━\u001b[0m\u001b[37m\u001b[0m \u001b[1m1s\u001b[0m 6ms/step - accuracy: 0.9645 - loss: 0.1073 - val_accuracy: 0.9336 - val_loss: 0.2374\n",
            "Epoch 45/48\n",
            "\u001b[1m209/209\u001b[0m \u001b[32m━━━━━━━━━━━━━━━━━━━━\u001b[0m\u001b[37m\u001b[0m \u001b[1m0s\u001b[0m 28ms/step - accuracy: 0.9629 - loss: 0.1308\n",
            "Epoch 45: val_accuracy improved from 0.95703 to 0.95733, saving model to best.keras\n",
            "\u001b[1m209/209\u001b[0m \u001b[32m━━━━━━━━━━━━━━━━━━━━\u001b[0m\u001b[37m\u001b[0m \u001b[1m7s\u001b[0m 34ms/step - accuracy: 0.9629 - loss: 0.1308 - val_accuracy: 0.9573 - val_loss: 0.1581\n",
            "Epoch 46/48\n",
            "\u001b[1m  9/209\u001b[0m \u001b[37m━━━━━━━━━━━━━━━━━━━━\u001b[0m \u001b[1m4s\u001b[0m 22ms/step - accuracy: 0.9629 - loss: 0.0965\n",
            "Epoch 46: val_accuracy improved from 0.95733 to 0.96364, saving model to best.keras\n",
            "\u001b[1m209/209\u001b[0m \u001b[32m━━━━━━━━━━━━━━━━━━━━\u001b[0m\u001b[37m\u001b[0m \u001b[1m3s\u001b[0m 12ms/step - accuracy: 0.9670 - loss: 0.1022 - val_accuracy: 0.9636 - val_loss: 0.1419\n",
            "Epoch 47/48\n",
            "\u001b[1m208/209\u001b[0m \u001b[32m━━━━━━━━━━━━━━━━━━━\u001b[0m\u001b[37m━\u001b[0m \u001b[1m0s\u001b[0m 24ms/step - accuracy: 0.9619 - loss: 0.1332\n",
            "Epoch 47: val_accuracy did not improve from 0.96364\n",
            "\u001b[1m209/209\u001b[0m \u001b[32m━━━━━━━━━━━━━━━━━━━━\u001b[0m\u001b[37m\u001b[0m \u001b[1m10s\u001b[0m 48ms/step - accuracy: 0.9619 - loss: 0.1333 - val_accuracy: 0.9453 - val_loss: 0.1892\n",
            "Epoch 48/48\n",
            "\u001b[1m 10/209\u001b[0m \u001b[37m━━━━━━━━━━━━━━━━━━━━\u001b[0m \u001b[1m6s\u001b[0m 31ms/step - accuracy: 0.9540 - loss: 0.1225\n",
            "Epoch 48: val_accuracy did not improve from 0.96364\n",
            "\u001b[1m209/209\u001b[0m \u001b[32m━━━━━━━━━━━━━━━━━━━━\u001b[0m\u001b[37m\u001b[0m \u001b[1m1s\u001b[0m 6ms/step - accuracy: 0.9517 - loss: 0.1398 - val_accuracy: 0.9531 - val_loss: 0.1796\n"
          ]
        }
      ]
    },
    {
      "cell_type": "code",
      "source": [
        "pred = model.predict(x_test_concat)\n",
        "\n",
        "image_num = -8\n",
        "predictions = pred[image_num]\n",
        "predicted_label = arabic_chars[np.argmax(predictions)]\n",
        "\n",
        "plt.figure(figsize=(10, 4))\n",
        "plt.subplot(1, 2, 1)\n",
        "plt.imshow(x_test_concat[image_num].reshape(32, 32).T, cmap='gray')\n",
        "plt.axis('off')\n",
        "plt.title('Transposed Image')\n",
        "plt.tight_layout()\n",
        "\n",
        "plt.subplot(1, 2, 2)\n",
        "plt.imshow(x_test_concat[image_num].reshape(32, 32).T, cmap='gray')\n",
        "plt.title(f'Predicted Label: {predicted_label}')\n",
        "plt.axis('off')\n",
        "plt.show()"
      ],
      "metadata": {
        "colab": {
          "base_uri": "https://localhost:8080/",
          "height": 426
        },
        "id": "lpOAA8YHaICY",
        "outputId": "165c5cc8-80c7-4682-b2a1-e8c8263af857"
      },
      "execution_count": 107,
      "outputs": [
        {
          "output_type": "stream",
          "name": "stdout",
          "text": [
            "\u001b[1m123/123\u001b[0m \u001b[32m━━━━━━━━━━━━━━━━━━━━\u001b[0m\u001b[37m\u001b[0m \u001b[1m0s\u001b[0m 3ms/step\n"
          ]
        },
        {
          "output_type": "display_data",
          "data": {
            "text/plain": [
              "<Figure size 1000x400 with 2 Axes>"
            ],
            "image/png": "[encoded data removed]"
          },
          "metadata": {}
        }
      ]
    },
    {
      "cell_type": "code",
      "source": [
        "def predict_image(image_path, model):\n",
        "    img = cv2.imread(image_path, cv2.IMREAD_GRAYSCALE)\n",
        "    img = cv2.resize(img, (32, 32))\n",
        "    img = img.reshape(1, 32, 32, 1)\n",
        "    img = img.astype('float32') / 255.0\n",
        "\n",
        "    pred = model.predict(img)\n",
        "    predicted_label = arabic_chars[np.argmax(pred)]\n",
        "\n",
        "    return predicted_label\n",
        "\n",
        "def plot_image(image_path):\n",
        "    img = cv2.imread(image_path, cv2.IMREAD_GRAYSCALE)\n",
        "    plt.imshow(img, cmap='gray')\n",
        "    plt.axis('off')\n",
        "    plt.show()\n",
        "\n",
        "model = load_model('/content/best.keras')\n",
        "predicted_label = predict_image('/content/test.png', model)\n",
        "print(f'Predicted Label: {predicted_label}')\n",
        "plot_image('/content/test.png')"
      ],
      "metadata": {
        "id": "T5YRaX0ybjtj"
      },
      "execution_count": null,
      "outputs": []
    }
  ]
}